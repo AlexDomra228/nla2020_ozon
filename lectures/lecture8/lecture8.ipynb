{
 "cells": [
  {
   "cell_type": "markdown",
   "metadata": {
    "slideshow": {
     "slide_type": "slide"
    }
   },
   "source": [
    "# Лекция 8. Введение в итерационные методы"
   ]
  },
  {
   "cell_type": "markdown",
   "metadata": {
    "slideshow": {
     "slide_type": "slide"
    }
   },
   "source": [
    "## На прошлой лекции...\n",
    "- Разреженные матрицы и форматы их хранения\n",
    "- Прямые методы решения больших разреженных линейных систем\n",
    "- Вектор Фидлера и сепаратор графа"
   ]
  },
  {
   "cell_type": "markdown",
   "metadata": {
    "slideshow": {
     "slide_type": "slide"
    }
   },
   "source": [
    "## План на сегодня\n",
    "\n",
    "Концепция **итерационных методов** для линейных систем:\n",
    "- Метод Ричардсона и его сходимость\n",
    "- Метод Чебышёва и его сходимость "
   ]
  },
  {
   "cell_type": "markdown",
   "metadata": {
    "slideshow": {
     "slide_type": "slide"
    }
   },
   "source": [
    "## Итерационные методы\n",
    "\n",
    "- Если мы хотим достичь сложности $\\mathcal{O}(N)$ в решении разреженных линейных систем, то прямые методы нам не подходят.\n",
    "\n",
    "- Если нам нужно решить частичную задачу на собственные значения, то полное спектральное разложение оказывается слишком дорогой операцией.\n",
    "\n",
    "- Для обеих задач мы будем использовать итерационные методы, основанные на Крыловских подпространствах, которые рассматривают матрицу как **линейный оператор** для преобразования одного вектора в другой (\"чёрный ящик\"), а не как двумерный массив с числами."
   ]
  },
  {
   "cell_type": "markdown",
   "metadata": {
    "slideshow": {
     "slide_type": "slide"
    }
   },
   "source": [
    "## Матрица как \"чёрный ящик\"\n",
    "\n",
    "- Сейчас рассмотрим альтернативный взгляд на то, что такое матрица: далее матрица – это линейный оператор, который действует на вектор, и результат этого действия можно вычислить за $\\mathcal{O}(N)$ операций.\n",
    "\n",
    "- **Единственная информация, которая нам доступна:** мы знаем о матрице только то, как умножать её на вектор!\n",
    "\n",
    "- Можно ли решить линейную систему, используя только процедуру умножения матрицы на вектор?\n",
    "\n",
    "- Конечно, мы можем умножить матрицу на столбцы единичной матрицы и восстановить матрицу, но это не то, что нам нужно."
   ]
  },
  {
   "cell_type": "markdown",
   "metadata": {
    "slideshow": {
     "slide_type": "slide"
    }
   },
   "source": [
    "## Метод Ричардсона (a.k.a метод простой итерации)\n",
    "\n",
    "Простейшая идея приводит нас к **методу Ричардсона**.\n",
    "\n",
    "$$Ax = f,$$\n",
    "$$\\tau  (Ax - f) = 0,$$\n",
    "$$x - \\tau (Ax - f) = x,$$\n",
    "$$x_{k+1} = x_k - \\tau (Ax_k - f),$$\n",
    "   \n",
    "где $\\tau > 0$ параметр метода, который надо выбрать так, чтобы метод сходился."
   ]
  },
  {
   "cell_type": "markdown",
   "metadata": {
    "slideshow": {
     "slide_type": "slide"
    }
   },
   "source": [
    "## Связь с обыкновенными дифференциальными уравнениями (ОДУ)\n",
    "\n",
    "- Метод Ричардсона имеет глубокую связь с ОДУ.\n",
    "\n",
    "- Рассмотрим задачу, зависящую от времени ($A=A^*>0$)\n",
    "\n",
    "$$\\frac{dy}{dt} + A y = f, \\quad y(0) = y_0.$$\n",
    "\n",
    "Тогда $y(t) \\rightarrow A^{-1} f$ при $t \\rightarrow \\infty$, и **схема Эйлера** выглядит следующим образом\n",
    "\n",
    "$$\\frac{y_{k+1} - y_k}{\\tau} = -A y_k + f,$$\n",
    "\n",
    "что также приводит к методу Ричардсона\n",
    "\n",
    "$$ y_{k+1} = y_k - \\tau(Ay_k -f). $$"
   ]
  },
  {
   "cell_type": "markdown",
   "metadata": {
    "slideshow": {
     "slide_type": "slide"
    }
   },
   "source": [
    "## Сходимость метода Ричардсона\n",
    "\n",
    "- Пусть $x_*$ решение, введём вектор ошибки $e_k = x_{k} - x_*$, тогда  \n",
    "\n",
    "$$ e_{k+1} = (I - \\tau A) e_k, $$\n",
    "\n",
    "поэтому если $\\Vert I - \\tau A \\Vert < 1$ в некоторой норме, метод сходится. \n",
    "\n",
    "- Для случая симметричной положительно определённой матрицы всегда можно выбрать $\\tau$ так, чтобы метод сошёлся.\n",
    "\n",
    "- Поведение метода для несимметричной матрицы будет рассмотрено далее"
   ]
  },
  {
   "cell_type": "markdown",
   "metadata": {
    "slideshow": {
     "slide_type": "slide"
    }
   },
   "source": [
    "## Выбор оптимального параметра\n",
    "\n",
    "- Параметр $\\tau$, который минимизирует $\\|I - \\tau A\\|_2$ для $A = A^* > 0$, выражается следующим образом (получите это выражение!)\n",
    "\n",
    "$$ \\tau_\\mathrm{opt} = \\frac{2}{\\lambda_{\\min} + \\lambda_{\\max}}, $$\n",
    "\n",
    "где $\\lambda_{\\min}$ – минимальное собственное значение, а $\\lambda_{\\max}$ – максимальное собственное значение матрицы $A$.\n",
    "\n",
    "- Итак, чтобы найти оптимальный параметр нам нужно знать **границы спектра** матрицы $A$, и мы можем вычислить их с помощью **степенного метода**."
   ]
  },
  {
   "cell_type": "markdown",
   "metadata": {
    "slideshow": {
     "slide_type": "slide"
    }
   },
   "source": [
    "## Число обусловленности и скорость сходимости\n",
    "\n",
    "- Даже с оптимальным выбором значения параметра $\\tau$, ошибка на следующей итерации связана с ошибкой на текущей итерации следующим образом\n",
    "\n",
    "$$\\|e_{k+1}\\|_2 \\leq q \\|e_k\\|_2 , \\quad\\rightarrow \\quad \\|e_k\\|_2 \\leq q^{k} \\|e_0\\|_2,$$\n",
    "\n",
    "где \n",
    "\n",
    "$$ q = \\frac{\\lambda_{\\max} - \\lambda_{\\min}}{\\lambda_{\\max} + \\lambda_{\\min}} = \\frac{\\mathrm{cond}(A) - 1}{\\mathrm{cond}(A)+1}, $$\n",
    "\n",
    "$$\\mathrm{cond}(A) = \\frac{\\lambda_{\\max}}{\\lambda_{\\min}} \\quad \\text{для} \\quad A=A^*>0$$\n",
    "\n",
    "число обусловенности матрицы $A$.\n",
    "\n",
    "- Далее покажем на примере сходимость метода Ричардсона..."
   ]
  },
  {
   "cell_type": "code",
   "execution_count": 37,
   "metadata": {
    "slideshow": {
     "slide_type": "slide"
    }
   },
   "outputs": [
    {
     "name": "stdout",
     "output_type": "stream",
     "text": [
      "Maximum eigenvalue = 3.6825070656623624, minimum eigenvalue = 0.08101405277100471\n",
      "Condition number = 45.45516413147952\n"
     ]
    },
    {
     "data": {
      "image/png": "[encoded data removed]",
      "text/plain": [
       "<Figure size 432x288 with 1 Axes>"
      ]
     },
     "metadata": {
      "needs_background": "light"
     },
     "output_type": "display_data"
    }
   ],
   "source": [
    "import numpy as np\n",
    "import matplotlib.pyplot as plt\n",
    "%matplotlib inline\n",
    "plt.rc(\"text\", usetex=True)\n",
    "import scipy as sp\n",
    "import scipy.sparse\n",
    "import scipy.sparse.linalg as spla\n",
    "import scipy\n",
    "from scipy.sparse import csc_matrix\n",
    "n = 10\n",
    "ex = np.ones(n);\n",
    "A = sp.sparse.spdiags(np.vstack((-ex,  2*ex, -ex)), [-1, 0, 1], n, n, 'csr'); \n",
    "rhs = np.ones(n)\n",
    "ev1, vec = spla.eigsh(A, k=2, which='LA')\n",
    "ev2, vec = spla.eigsh(A, k=2, which='SA')\n",
    "lam_max = ev1[0]\n",
    "lam_min = ev2[0]\n",
    "\n",
    "tau_opt = 2.0/(lam_max + lam_min)\n",
    "\n",
    "fig, ax = plt.subplots()\n",
    "plt.close(fig)\n",
    "\n",
    "niters = 100\n",
    "x = np.zeros(n)\n",
    "res_richardson = []\n",
    "for i in range(niters):\n",
    "    rr = A.dot(x) - rhs\n",
    "    x = x - tau_opt * rr\n",
    "    res_richardson.append(np.linalg.norm(rr))\n",
    "#Convergence of an ordinary Richardson (with optimal parameter)\n",
    "plt.plot(res_richardson)\n",
    "plt.yscale(\"log\")\n",
    "plt.xlabel(\"Number of iterations, $k$\", fontsize=20)\n",
    "plt.ylabel(\"Residual norm, $\\|Ax_k - b\\|_2$\", fontsize=20)\n",
    "plt.xticks(fontsize=20)\n",
    "plt.yticks(fontsize=20)\n",
    "print(\"Maximum eigenvalue = {}, minimum eigenvalue = {}\".format(lam_max, lam_min))\n",
    "print(\"Condition number = {}\".format(lam_max.real / lam_min.real))"
   ]
  },
  {
   "cell_type": "markdown",
   "metadata": {
    "slideshow": {
     "slide_type": "slide"
    }
   },
   "source": [
    "### Вывод о влиянии числа обусловленности на сходимость\n",
    "\n",
    "- Для **плохо обусловленных** матриц норма вектора ошибки в методе Ричардсона убывает **очень** медленно.\n",
    "- Это ещё одна причина, по которой число обусловленности очень важно: кроме того, что оно показывает ошибку при решении, оно также даёт оценку числа итераций для сходимости итерационных методов.\n",
    "- Основной вопрос в разработке итерационных методов – как улучшить обусловленность матрицы?\n",
    "- Ответом является использование <font color='red'> предобуславливателей (preconditioners) </font>. Эта тема будет рассмотрена далее в курсе."
   ]
  },
  {
   "cell_type": "markdown",
   "metadata": {
    "slideshow": {
     "slide_type": "slide"
    }
   },
   "source": [
    "### Рассмотрим несимметричную матрицу $A$\n",
    "\n",
    "Возможные варианты поведения метода Ричардсона:\n",
    "- сходимость\n",
    "- расходимость\n",
    "- почти стабильная траектория, то есть отсутствие сходимости, но и отсутствие существенного увеличения нормы вектора ошибки\n",
    "\n",
    "###### Как мы можем определить поведение метода Ричардсона для несимметричной матрицы **до** запуска метода?"
   ]
  },
  {
   "cell_type": "code",
   "execution_count": 38,
   "metadata": {
    "slideshow": {
     "slide_type": "slide"
    }
   },
   "outputs": [
    {
     "name": "stdout",
     "output_type": "stream",
     "text": [
      "[[ 1  2]\n",
      " [-1  0]]\n",
      "Spectrum of the matrix = [0.5+1.32287566j 0.5-1.32287566j]\n"
     ]
    }
   ],
   "source": [
    "# B = np.random.randn(2, 2)\n",
    "B = np.array([[1, 2], [-1, 0]])\n",
    "# B = np.array([[0, 1], [-1, 0]])\n",
    "print(B)\n",
    "x_true = np.zeros(2)\n",
    "f = B.dot(x_true)\n",
    "eigvals = np.linalg.eigvals(B)\n",
    "print(\"Spectrum of the matrix = {}\".format(eigvals))\n",
    "\n",
    "# Run Richardson iteration\n",
    "x = np.array([0, -1])\n",
    "tau = 1e-2\n",
    "conv_x = [x]\n",
    "r = B.dot(x) - f\n",
    "conv_r = [np.linalg.norm(r)]\n",
    "num_iter = 1000\n",
    "for i in range(num_iter):\n",
    "    x = x - tau * r\n",
    "    conv_x.append(x)\n",
    "    r = B.dot(x) - f\n",
    "    conv_r.append(np.linalg.norm(r))"
   ]
  },
  {
   "cell_type": "code",
   "execution_count": 57,
   "metadata": {
    "slideshow": {
     "slide_type": "slide"
    }
   },
   "outputs": [
    {
     "data": {
      "image/png": "[encoded data removed]",
      "text/plain": [
       "<Figure size 432x288 with 1 Axes>"
      ]
     },
     "metadata": {
      "needs_background": "light"
     },
     "output_type": "display_data"
    }
   ],
   "source": [
    "plt.plot(conv_r)\n",
    "plt.yscale(\"log\")\n",
    "plt.xlabel(\"Number of iteration, $k$\", fontsize=20)\n",
    "plt.ylabel(\"Residual norm\", fontsize=20)\n",
    "plt.yticks(fontsize=20)\n",
    "_ = plt.xticks(fontsize=20)"
   ]
  },
  {
   "cell_type": "code",
   "execution_count": 59,
   "metadata": {
    "slideshow": {
     "slide_type": "slide"
    }
   },
   "outputs": [
    {
     "data": {
      "image/png": "[encoded data removed]",
      "text/plain": [
       "<Figure size 432x288 with 1 Axes>"
      ]
     },
     "metadata": {
      "needs_background": "light"
     },
     "output_type": "display_data"
    }
   ],
   "source": [
    "plt.scatter([x[0] for x in conv_x], [x[1] for x in conv_x])\n",
    "plt.xlabel(\"$x$\", fontsize=20)\n",
    "plt.ylabel(\"$y$\", fontsize=20)\n",
    "plt.xticks(fontsize=20)\n",
    "plt.yticks(fontsize=20)\n",
    "_ = plt.title(\"$x_0 = (0, -1)$\", fontsize=20)"
   ]
  },
  {
   "cell_type": "markdown",
   "metadata": {
    "slideshow": {
     "slide_type": "slide"
    }
   },
   "source": [
    "## Возможные улучшения метода простой итерации\n",
    "\n",
    "- Наискорейший спуск\n",
    "- Метод Чебышёва"
   ]
  },
  {
   "cell_type": "markdown",
   "metadata": {
    "slideshow": {
     "slide_type": "slide"
    }
   },
   "source": [
    "## Улучшение 1: метод наискорейшего спуска\n",
    "\n",
    "- Пусть мы можем изменять значения $\\tau$ на каждой итерации, то есть \n",
    "\n",
    "$$ x_{k+1} = x_k - \\tau_k (A x_k - f). $$\n",
    "\n",
    "- Возможный выбор $\\tau_k$ такой что, $\\tau_k$ минимизирует нормы текущего вектора остатков, то есть\n",
    "\n",
    "$$\\tau_k = \\arg\\min_{\\tau > 0} \\|A(x_k - \\tau (A x_k - f)) - f \\|^2_2 $$\n",
    "\n",
    "- Используя технику, аналогичную той, что использовалась для получения нормального уравнения, получим выражение для $\\tau_k$\n",
    "\n",
    "$$\\tau_k = \\frac{r_k^{\\top}r_k}{r_k^{\\top}Ar_k}, \\quad r_k = Ax_k - f$$\n",
    "\n",
    "- Такой метод называется **методом наискорейшего спуска**.\n",
    "\n",
    "- Однако он сходится так же, как и метод Ричардсона."
   ]
  },
  {
   "cell_type": "markdown",
   "metadata": {
    "slideshow": {
     "slide_type": "slide"
    }
   },
   "source": [
    "## Улучшение 2: метод Чебышёва\n",
    "\n",
    "- Другой метод нахождения $\\tau_k$ заключается в рассмотрении следующего выражения\n",
    "\n",
    "$$e_{k+1} = (I - \\tau_k A) e_k = (I - \\tau_k A) (I - \\tau_{k-1} A)  e_{k-1} = \\ldots = p(A) e_0, $$\n",
    "\n",
    "где $p(A)$ – **матричный полином** (простейшая матричная функция)  \n",
    "\n",
    "$$ p(A) = (I - \\tau_k A) \\ldots (I - \\tau_0 A), $$\n",
    "\n",
    "и $p(0) = 1$."
   ]
  },
  {
   "cell_type": "markdown",
   "metadata": {
    "slideshow": {
     "slide_type": "slide"
    }
   },
   "source": [
    "## Оптимальный выбор шагов по времени\n",
    "\n",
    "- Вектор ошибки можно записать в виде\n",
    "\n",
    "$$e_{k+1} = p(A) e_0, $$\n",
    "\n",
    "тогда \n",
    "\n",
    "$$\\|e_{k+1}\\| \\leq \\|p(A)\\| \\|e_0\\|, $$\n",
    "\n",
    "где $p(0) = 1$ и $p(A)$ – **матричный полином**. \n",
    "\n",
    "- Для получения скорейшего уменьшения нормы вектора ошибки, нам нужно минимизировать\n",
    "\n",
    "$$\\Vert p(A) \\Vert$$ \n",
    "\n",
    "по всем возможным полиномам $p(x)$ степени $k+1$, таких что $p(0)=1$. \n",
    "- Мы будем использовать спектральную норму $\\|\\cdot\\|_2$."
   ]
  },
  {
   "cell_type": "markdown",
   "metadata": {
    "slideshow": {
     "slide_type": "slide"
    }
   },
   "source": [
    "##  Полиномы, наименее отклоняющиеся от 0\n",
    "\n",
    "- Важный частный случай: $A = A^* > 0$.\n",
    "\n",
    "- Тогда $A = U \\Lambda U^*$, \n",
    "\n",
    "и \n",
    "\n",
    "$$\\Vert p(A) \\Vert_2 = \\Vert U p(\\Lambda) U^* \\Vert_2 = \\Vert p(\\Lambda) \\Vert_2 = \\max_i |p(\\lambda_i)| \\overset{!}{\\leq}\n",
    "\\max_{\\lambda_\\min \\leq \\lambda {\\leq} \\lambda_\\max} |p(\\lambda)|.$$\n",
    "\n",
    "- Последнее неравенство является приближением: мы делаем <font color='red'> ключевое предположение </font> о не использовании распределения спектра между $\\lambda_\\min$ и $\\lambda_\\max$ для получения более быстрой сходимости.\n",
    "\n",
    "- Таким образом, нам нужно найти такой полином заданной степени, что $p(0) = 1$ и отклонение от 0 является минимальным на отрезке $[\\lambda_\\min, \\lambda_\\max]$."
   ]
  },
  {
   "cell_type": "markdown",
   "metadata": {
    "slideshow": {
     "slide_type": "slide"
    }
   },
   "source": [
    "##  Масштабирование задачи с $[\\lambda_\\min, \\lambda_\\max]$ на $[-1, 1]$\n",
    "\n",
    "- Мы можем сделать аффинное преобразование отрезка $[\\lambda_\\min, \\lambda_\\max]$ в отрезок $[-1, 1]$:\n",
    "\n",
    "$$ \\xi = \\frac{{\\lambda_\\max + \\lambda_\\min - (\\lambda_\\min-\\lambda_\\max)x}}{2}, \\quad x\\in [-1, 1]. $$\n",
    "\n",
    "- Теперь задача свелась к задаче поиска полинома, наименее отклоняющегося от 0 на отрезке $[-1, 1]$"
   ]
  },
  {
   "cell_type": "markdown",
   "metadata": {
    "slideshow": {
     "slide_type": "slide"
    }
   },
   "source": [
    "## Точное решение: полиномы Чебышёва\n",
    "\n",
    "- Точным решением этой задачи являются знаменитые **полиномы Чебышёва**, которые можно записать в виде\n",
    "\n",
    "$$T_n(x) =  \\cos (n \\arccos x), \\quad x \\in [-1, 1]$$"
   ]
  },
  {
   "cell_type": "markdown",
   "metadata": {
    "slideshow": {
     "slide_type": "slide"
    }
   },
   "source": [
    "## Что вам нужно знать о полиномах Чебышёва\n",
    "\n",
    "1. Это полиномы!\n",
    "\n",
    "2. Можно выразить $T_n$ из $T_{n-1}$ и $T_{n-2}$: \n",
    "\n",
    "$$T_n(x) = 2x T_{n-1}(x) - T_{n-2}(x), \\quad T_0(x)=1, \\quad T_1(x)=x$$\n",
    "\n",
    "3. $|T_n(x)| \\leq 1$ на $x \\in [-1, 1]$.\n",
    "\n",
    "4. У них есть $n+1$ **точка альтернанса**, где максимальное абсолютное значение достигается (это необходимое и достаточное условие для **оптимальности**: об этом говорит теорема Чебышёва об альтернансе).\n",
    "\n",
    "5. Корни записываются как \n",
    "\n",
    "$$n \\arccos x_k = \\frac{\\pi}{2} + \\pi k, \\quad \\rightarrow\\quad x_k = \\cos \\frac{\\pi(2k + 1)}{2n}, \\; k = 0, \\ldots,n-1$$\n",
    "\n",
    "Мы можем их нарисовать!"
   ]
  },
  {
   "cell_type": "code",
   "execution_count": 32,
   "metadata": {
    "slideshow": {
     "slide_type": "slide"
    }
   },
   "outputs": [
    {
     "data": {
      "text/plain": [
       "Text(0.5, 1.0, 'Interval $x\\\\in[-1.1, 1.1]$')"
      ]
     },
     "execution_count": 32,
     "metadata": {},
     "output_type": "execute_result"
    },
    {
     "data": {
      "image/png": "[encoded data removed]",
      "text/plain": [
       "<Figure size 432x288 with 2 Axes>"
      ]
     },
     "metadata": {
      "needs_background": "light"
     },
     "output_type": "display_data"
    }
   ],
   "source": [
    "import numpy as np\n",
    "import matplotlib.pyplot as plt\n",
    "%matplotlib inline\n",
    "x1 = np.linspace(-1, 1, 128)\n",
    "x2 = np.linspace(-1.1, 1.1, 128)\n",
    "p = np.polynomial.Chebyshev((0, 0, 0, 0, 0, 0, 0, 0, 0, 1), (-1, 1)) #These are Chebyshev series, a proto of \"chebfun system\" in MATLAB\n",
    "fig, (ax1, ax2) = plt.subplots(1, 2)\n",
    "ax1.plot(x1, p(x1))\n",
    "ax1.set_title('Interval $x\\in[-1, 1]$')\n",
    "ax2.plot(x2, p(x2))\n",
    "ax2.set_title('Interval $x\\in[-1.1, 1.1]$')"
   ]
  },
  {
   "cell_type": "markdown",
   "metadata": {
    "slideshow": {
     "slide_type": "slide"
    }
   },
   "source": [
    "## Сходимость метода Чебышёва\n",
    "\n",
    "- Заметим, что $p(x) = (1-\\tau_n x)\\dots (1-\\tau_0 x)$, поэтому корни $p(x)$ задаются как $1/\\tau_i$ и нам осталось дополнительно отобразить их из $[-1,1]$ в $[\\lambda_\\min, \\lambda_\\max]$.\n",
    "\n",
    "- Это даёт следующий результат\n",
    "\n",
    "$$\\tau_i = \\frac{2}{\\lambda_\\max + \\lambda_\\min - (\\lambda_\\max - \\lambda_\\min)x_i}, \\quad x_i = \\cos \\frac{\\pi(2i + 1)}{2n}\\quad i=0,\\dots,n-1$$\n",
    "\n",
    "- Сходимость теперь будет такой (без доказательства)\n",
    "\n",
    "$$ e_{k+1} \\leq C q^k e_0, \\quad q = \\frac{\\sqrt{\\mathrm{cond}(A)}-1}{\\sqrt{\\mathrm{cond}(A)}+1}, $$\n",
    "\n",
    "что лучше, чем у метода Ричардсона."
   ]
  },
  {
   "cell_type": "code",
   "execution_count": 47,
   "metadata": {
    "slideshow": {
     "slide_type": "slide"
    }
   },
   "outputs": [
    {
     "data": {
      "image/png": "[encoded data removed]",
      "text/plain": [
       "<Figure size 432x288 with 1 Axes>"
      ]
     },
     "metadata": {
      "needs_background": "light"
     },
     "output_type": "display_data"
    }
   ],
   "source": [
    "niters = 64\n",
    "roots = [np.cos((np.pi * (2 * i + 1)) / (2 * niters)) for i in range(niters)]\n",
    "taus = [(lam_max + lam_min - (lam_min - lam_max) * r) / 2 for r in roots]\n",
    "x = np.zeros(n)\n",
    "r = A.dot(x) - rhs\n",
    "res_cheb = [np.linalg.norm(r)]\n",
    "\n",
    "# Implementation may be non-optimal if number of iterations is not power of two\n",
    "def good_shuffle(idx):\n",
    "    if len(idx) == 1:\n",
    "        return idx\n",
    "    else:\n",
    "        new_len = int(np.ceil((len(idx) / 2)))\n",
    "        new_idx = good_shuffle(idx[:new_len])\n",
    "        res_perm = []\n",
    "        perm_count = 0\n",
    "        for i in new_idx:\n",
    "            res_perm.append(i)\n",
    "            perm_count += 1\n",
    "            if perm_count == len(idx):\n",
    "                break\n",
    "            res_perm.append(len(idx) + 1 - i)\n",
    "            perm_count += 1\n",
    "            if perm_count == len(idx):\n",
    "                break\n",
    "        return res_perm\n",
    "\n",
    "good_perm = [i for i in range(1, niters+1)]\n",
    "# good_perm = good_shuffle([i for i in range(1, niters+1)])\n",
    "# good_perm = [i for i in range(niters, 0, -1)]\n",
    "# good_perm = np.random.permutation([i for i in range(1, niters+1)])\n",
    "\n",
    "for i in range(niters):\n",
    "    x = x - 1.0/taus[good_perm[i] - 1] * r\n",
    "    r = A.dot(x) - rhs\n",
    "    res_cheb.append(np.linalg.norm(r))\n",
    "    \n",
    "plt.semilogy(res_richardson, label=\"Richardson\")\n",
    "plt.semilogy(res_cheb, label=\"Chebyshev\")\n",
    "plt.legend(fontsize=20)\n",
    "plt.xlabel(\"Number of iterations, $k$\", fontsize=20)\n",
    "plt.ylabel(\"Residual norm, $\\|Ax_k - b\\|_2$\", fontsize=20)\n",
    "plt.xticks(fontsize=20)\n",
    "_ = plt.yticks(fontsize=20)"
   ]
  },
  {
   "cell_type": "markdown",
   "metadata": {
    "slideshow": {
     "slide_type": "slide"
    }
   },
   "source": [
    "### Что сломалось в прекрасном методе Чебышёва?"
   ]
  },
  {
   "cell_type": "markdown",
   "metadata": {
    "slideshow": {
     "slide_type": "fragment"
    }
   },
   "source": [
    "- Перестановки корней полинома Чебышёва очень сильно влияют на сходимость метода (почему?)\n",
    "- Об оптимальной перестановке можно прочитать в [этой статье](http://www.mathnet.ru/links/42ab1a270ad179d43359ef8fab53422c/zvmmf6870.pdf)"
   ]
  },
  {
   "cell_type": "markdown",
   "metadata": {
    "slideshow": {
     "slide_type": "slide"
    }
   },
   "source": [
    "### Проект [Chebfun](http://www.chebfun.org/) \n",
    "\n",
    "- Проект с открытым исходным кодом для численных расчётов (с интерфейсом для [Python](https://github.com/chebpy/chebpy) и [Matlab](https://github.com/chebfun/chebfun))\n",
    "- Основан на алгоритмах, работающих с кусочно-полиномиальными интерполяциями и Чебышёвскими полиномами\n",
    "- Авторами проекта являются Nick Trefethen и его студент Zachary Battles, подробности см. в [этой статье](http://www.chebfun.org/publications/chebfun_paper.pdf)\n",
    "- Chebfun нацелен на решение следующих задач\n",
    "    - Аппроксимация\n",
    "    - Квадратуры\n",
    "    - ОДУ\n",
    "    - Уравнения с частными производными\n",
    "    - Поиск корней\n",
    "    - Одномерная глобальная оптимизация"
   ]
  },
  {
   "cell_type": "markdown",
   "metadata": {
    "slideshow": {
     "slide_type": "slide"
    }
   },
   "source": [
    "## Улучшения метода Чебышёва\n",
    "\n",
    "- Мы сделали важное предположение о спектре: он содержится на отрезке (и нам нужны границы)\n",
    "\n",
    "- Если спектр содержится в **двух отрезках** и мы знаем границы, также можно поставить задачу оптимизации для поиска оптимального полинома"
   ]
  },
  {
   "cell_type": "markdown",
   "metadata": {
    "slideshow": {
     "slide_type": "slide"
    }
   },
   "source": [
    "## Если спектр матрицы лежит в нескольких отрезках\n",
    "\n",
    "- Для случая двух отрезков оптимальными полиномами являются **[полиномы Золотарёва](https://www.encyclopediaofmath.org/index.php/Zolotarev_polynomials)** (выражаются через эллиптические функции). \n",
    "- Оригинальная работа опубликована в 1877, подробности см. [тут](http://gpntb.dlibrary.org/ru/nodes/4245-zolotarev-e-prilozhenie-ellipticheskih-funktsiy-k-voprosam-o-funktsiyah-naimenee-i-naibolee-otklonyayuschihsya-ot-nulya-spb-1877) \n",
    "- Для случая, когда интервалов больше двух, оптимальный полином может быть записан с помощью гиперэллиптических функций"
   ]
  },
  {
   "cell_type": "markdown",
   "metadata": {
    "slideshow": {
     "slide_type": "slide"
    }
   },
   "source": [
    "## Как ещё можно ускорить метод Чебышёва?\n",
    "\n",
    "- Реализация метода Чебышёва требует знания границ спектра.\n",
    "\n",
    "- Метод хранит вектор $x_k$ и вычисляет новую поправку\n",
    "\n",
    "$$r_k = A x_k - f.$$\n",
    "\n",
    "- Оказывается, что если мы будем использовать больше векторов (не только $x_k$ и $r_k$), то мы можем избавиться от необходимости знать спектр и получим более быструю сходимость!"
   ]
  },
  {
   "cell_type": "markdown",
   "metadata": {
    "slideshow": {
     "slide_type": "slide"
    }
   },
   "source": [
    "## Главная идея: Крыловские пространства\n",
    "\n",
    "- Метод Чебышёва даёт аппроксимацию вида\n",
    "\n",
    "$$x_{k+1} = x_0 + p(A) r_0,$$\n",
    "\n",
    "то есть $x_{k+1}$ лежит в Крыловском пространстве.\n",
    "- Крыловское пространство определяется для матрицы $A$ следующим образом\n",
    "\n",
    "$$ \\mathcal{K}_k(A, r_0) = \\mathrm{Span}(r_0, Ar_0, A^2 r_0, \\ldots, A^{k-1}r_0 ) $$\n",
    "\n",
    "- Наиболее естественный подход теперь – это искать вектор в этом пространстве, который минимизирует норму некоторого вектора"
   ]
  },
  {
   "cell_type": "markdown",
   "metadata": {
    "slideshow": {
     "slide_type": "slide"
    }
   },
   "source": [
    "## Идея Крыловских методов\n",
    "\n",
    "Идея заключается в минимизации заданного функционала:\n",
    "- Энергетическая норма вектора ошибки для систем с эрмитовой положительно определённой матрицей (метод сопряжённых градиентов).\n",
    "- Норма вектора остатков для систем с матрицами общего вида (методы minres и GMRES).\n",
    "- Отношение Релея для частичных задач на собстенные значения (метод Ланцоша).\n",
    "\n",
    "Для того чтобы сделать метод практичным нужно следующее\n",
    "1. Ортогонализовать векторы $A^i r_0$ Крыловского подпространства для устойчивости (процесс Ланцоша).\n",
    "2. Получить рекуррентные формулы для уменьшения сложности.\n",
    "\n",
    "Эти методы рассмотрим в следующей лекции."
   ]
  },
  {
   "cell_type": "markdown",
   "metadata": {
    "slideshow": {
     "slide_type": "slide"
    }
   },
   "source": [
    "## Выводы по лекции\n",
    "\n",
    "- Основная идея итерационных методов\n",
    "- Метод Ричардсона: эрмитов и неэрмитов случай\n",
    "- Метод Чебышёва\n",
    "- Определение Крыловских подпространств"
   ]
  }
 ],
 "metadata": {
  "celltoolbar": "Slideshow",
  "kernelspec": {
   "display_name": "Python 3",
   "language": "python",
   "name": "python3"
  },
  "language_info": {
   "codemirror_mode": {
    "name": "ipython",
    "version": 3
   },
   "file_extension": ".py",
   "mimetype": "text/x-python",
   "name": "python",
   "nbconvert_exporter": "python",
   "pygments_lexer": "ipython3",
   "version": "3.7.7"
  }
 },
 "nbformat": 4,
 "nbformat_minor": 2
}
